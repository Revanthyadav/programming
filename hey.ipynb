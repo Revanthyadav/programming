{
 "cells": [
  {
   "cell_type": "code",
   "execution_count": 1,
   "metadata": {},
   "outputs": [
    {
     "name": "stdout",
     "output_type": "stream",
     "text": [
      "enter number 12\n",
      "enter number 26\n",
      "enter number 35\n",
      "6 is the large number\n"
     ]
    }
   ],
   "source": [
    "#greatest of three numbers\n",
    "a=int(input(\"enter number 1\"))\n",
    "b=int(input(\"enter number 2\"))\n",
    "c=int(input(\"enter number 3\"))\n",
    "if a>b and a>c:\n",
    "    print(a,\"is the large number\")\n",
    "elif b>c and b>a:\n",
    "    print(b,\"is the large number\")\n",
    "else:\n",
    "    print(c,\"is the large number\")"
   ]
  },
  {
   "cell_type": "markdown",
   "metadata": {},
   "source": [
    "<img src=\"greater.png\">"
   ]
  },
  {
   "cell_type": "code",
   "execution_count": 2,
   "metadata": {},
   "outputs": [
    {
     "name": "stdout",
     "output_type": "stream",
     "text": [
      "enter a year2019\n",
      "not a leap year\n"
     ]
    }
   ],
   "source": [
    "## check if a year is a leap year\n",
    "m=int(input(\"enter a year\"))\n",
    "if m%4==0:\n",
    "    print(\"leap year\")\n",
    "else:\n",
    "    print(\"not a leap year\")"
   ]
  },
  {
   "cell_type": "code",
   "execution_count": 3,
   "metadata": {},
   "outputs": [
    {
     "name": "stdout",
     "output_type": "stream",
     "text": [
      "enter a year2000\n",
      "leapyear\n"
     ]
    }
   ],
   "source": [
    "#leap year another method\n",
    "y=int(input(\"enter a year\"))\n",
    "if y%400==0 or (y%100!=0 and y%4==0):\n",
    "    print(\"leapyear\")\n",
    "else:\n",
    "    print(\"not a leap year\")"
   ]
  },
  {
   "cell_type": "code",
   "execution_count": 4,
   "metadata": {},
   "outputs": [
    {
     "name": "stdout",
     "output_type": "stream",
     "text": [
      "gitam\n",
      "gitam\n",
      "gitam\n",
      "gitam\n",
      "gitam\n"
     ]
    }
   ],
   "source": [
    "#print gitam for 5 times\n",
    "x=0\n",
    "while x<5:\n",
    "    print(\"gitam\")\n",
    "    x=x+1"
   ]
  },
  {
   "cell_type": "code",
   "execution_count": 5,
   "metadata": {},
   "outputs": [
    {
     "name": "stdout",
     "output_type": "stream",
     "text": [
      "enter thelast number6\n",
      "1 2 3 4 5 6 "
     ]
    }
   ],
   "source": [
    "#print N natural numbers using while loop\n",
    "x=0\n",
    "n=int(input(\"enter thelast number\"))\n",
    "while x<n:\n",
    "    x=x+1\n",
    "    print(x,end=\" \") #to print on the same line"
   ]
  },
  {
   "cell_type": "code",
   "execution_count": 6,
   "metadata": {},
   "outputs": [
    {
     "name": "stdout",
     "output_type": "stream",
     "text": [
      "enter n234\n",
      "13806\n"
     ]
    }
   ],
   "source": [
    "#read the number and print only even numbers between 1 to n\n",
    "i=1\n",
    "n=int(input(\"enter n\"))\n",
    "sum=0\n",
    "while i<=n:\n",
    "    if(i%2==0):\n",
    "        sum=sum+i #inside if condition\n",
    "    i=i+1  #inside while loop and outside if condition\n",
    "print(sum)  #outside while loop"
   ]
  },
  {
   "cell_type": "code",
   "execution_count": 7,
   "metadata": {},
   "outputs": [
    {
     "name": "stdout",
     "output_type": "stream",
     "text": [
      "enter a number123\n",
      "3 2 1 "
     ]
    }
   ],
   "source": [
    "#To print digits of a number in reverse order\n",
    "n=int(input(\"enter a number\"))\n",
    "while n>0:\n",
    "    r=n%10\n",
    "    n=n//10\n",
    "    print(r,end=\" \")"
   ]
  },
  {
   "cell_type": "code",
   "execution_count": 8,
   "metadata": {},
   "outputs": [
    {
     "name": "stdout",
     "output_type": "stream",
     "text": [
      "6\n"
     ]
    },
    {
     "data": {
      "text/plain": [
       "6"
      ]
     },
     "execution_count": 8,
     "metadata": {},
     "output_type": "execute_result"
    }
   ],
   "source": [
    "def addevendigits(n):\n",
    "    sum=0\n",
    "    while n!=0:\n",
    "        r=n%10\n",
    "        if r%2==0:\n",
    "            sum=sum+r\n",
    "        n=n//10\n",
    "    print(sum)\n",
    "    return sum\n",
    "addevendigits(1234)"
   ]
  },
  {
   "cell_type": "code",
   "execution_count": 9,
   "metadata": {},
   "outputs": [
    {
     "name": "stdout",
     "output_type": "stream",
     "text": [
      "9\n"
     ]
    }
   ],
   "source": [
    "#read a number and print the large digit from the number\n",
    "def largedigit(n):\n",
    "    max=0\n",
    "    while n!=0:\n",
    "        r=n%10\n",
    "        if (max<r):\n",
    "            max=r\n",
    "        n=n//10\n",
    "    print(max)\n",
    "    return\n",
    "largedigit(18923)"
   ]
  },
  {
   "cell_type": "code",
   "execution_count": 10,
   "metadata": {},
   "outputs": [
    {
     "name": "stdout",
     "output_type": "stream",
     "text": [
      "enter number123\n",
      "321\n"
     ]
    }
   ],
   "source": [
    "#read a number as input and output as reverse of given nummber\n",
    "n=int(input(\"enter number\"))\n",
    "def revofno(n):\n",
    "    sum=0\n",
    "    while n!=0:\n",
    "        r=n%10\n",
    "        sum=sum*10+r\n",
    "        n=n//10\n",
    "    return sum\n",
    "print(revofno(n))"
   ]
  },
  {
   "cell_type": "code",
   "execution_count": 12,
   "metadata": {},
   "outputs": [
    {
     "name": "stdout",
     "output_type": "stream",
     "text": [
      "yes\n"
     ]
    }
   ],
   "source": [
    "def revofno(n):\n",
    "    a=n\n",
    "    rev=0\n",
    "    while n!=0:\n",
    "        r=n%10\n",
    "        rev=rev*10+r\n",
    "        n=n//10\n",
    "    if a==rev:\n",
    "        print(\"yes\")\n",
    "    else:\n",
    "        print(\"no\")\n",
    "    return\n",
    "revofno(151)"
   ]
  },
  {
   "cell_type": "code",
   "execution_count": 13,
   "metadata": {},
   "outputs": [
    {
     "name": "stdout",
     "output_type": "stream",
     "text": [
      "11 12 13 14 15 16 17 18 19 20 21 22 23 24 25 "
     ]
    }
   ],
   "source": [
    "#To print numbers between the range \n",
    "def printseries(lb,ub):\n",
    "    for x in range(lb,ub+1):\n",
    "        print(x,end=\" \")\n",
    "    return\n",
    "printseries(11,25)"
   ]
  },
  {
   "cell_type": "code",
   "execution_count": 14,
   "metadata": {},
   "outputs": [
    {
     "name": "stdout",
     "output_type": "stream",
     "text": [
      "99 101 103 105 107 109 111 "
     ]
    }
   ],
   "source": [
    "#To print alternate numbers in a series\n",
    "def printseries(lb,ub):\n",
    "    for x in range(lb-1,ub+3,2):\n",
    "        print(x,end=\" \")\n",
    "    return\n",
    "printseries(100,110)"
   ]
  },
  {
   "cell_type": "code",
   "execution_count": 15,
   "metadata": {},
   "outputs": [
    {
     "name": "stdout",
     "output_type": "stream",
     "text": [
      "10 9 8 7 6 5 4 3 2 1 "
     ]
    }
   ],
   "source": [
    "#to print the series in reverse\n",
    "def revseries(start,end):\n",
    "    for x in range(end,start-1,-1):\n",
    "        print(x,end=\" \")\n",
    "    return\n",
    "revseries(1,10)"
   ]
  },
  {
   "cell_type": "code",
   "execution_count": null,
   "metadata": {},
   "outputs": [],
   "source": []
  }
 ],
 "metadata": {
  "kernelspec": {
   "display_name": "Python 3",
   "language": "python",
   "name": "python3"
  },
  "language_info": {
   "codemirror_mode": {
    "name": "ipython",
    "version": 3
   },
   "file_extension": ".py",
   "mimetype": "text/x-python",
   "name": "python",
   "nbconvert_exporter": "python",
   "pygments_lexer": "ipython3",
   "version": "3.7.3"
  }
 },
 "nbformat": 4,
 "nbformat_minor": 2
}
